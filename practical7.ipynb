{
 "cells": [
  {
   "cell_type": "code",
   "execution_count": 1,
   "id": "d9aef380",
   "metadata": {
    "execution": {
     "iopub.execute_input": "2023-11-07T11:45:41.588178Z",
     "iopub.status.busy": "2023-11-07T11:45:41.587056Z",
     "iopub.status.idle": "2023-11-07T11:45:42.028685Z",
     "shell.execute_reply": "2023-11-07T11:45:42.027561Z"
    },
    "papermill": {
     "duration": 0.449364,
     "end_time": "2023-11-07T11:45:42.031738",
     "exception": false,
     "start_time": "2023-11-07T11:45:41.582374",
     "status": "completed"
    },
    "tags": []
   },
   "outputs": [
    {
     "name": "stdout",
     "output_type": "stream",
     "text": [
      "    A   B   C\n",
      "0  77  34  33\n",
      "1  23  66  61\n",
      "2  29  92  94\n",
      "3  50  81  39\n",
      "4  99  20  56\n"
     ]
    }
   ],
   "source": [
    "# to create a dataframe from a dictionary and display it\n",
    "# Name : Arya Lodhari\n",
    "# Enroll : 216270307064\n",
    "\n",
    "import pandas as pd\n",
    "df = pd.DataFrame({'A':[77,23,29,50,99],'B':[34,66,92,81,20],'C':[33,61,94,39,56]});\n",
    "print(df)"
   ]
  },
  {
   "cell_type": "code",
   "execution_count": 2,
   "id": "45791038",
   "metadata": {
    "execution": {
     "iopub.execute_input": "2023-11-07T11:45:42.040922Z",
     "iopub.status.busy": "2023-11-07T11:45:42.040410Z",
     "iopub.status.idle": "2023-11-07T11:45:42.075554Z",
     "shell.execute_reply": "2023-11-07T11:45:42.074719Z"
    },
    "papermill": {
     "duration": 0.043887,
     "end_time": "2023-11-07T11:45:42.078216",
     "exception": false,
     "start_time": "2023-11-07T11:45:42.034329",
     "status": "completed"
    },
    "tags": []
   },
   "outputs": [
    {
     "name": "stdout",
     "output_type": "stream",
     "text": [
      "Original rows:\n",
      "       name  score  attempts quality\n",
      "a     harry   15.4         2     yes\n",
      "b  rashford   14.2         3      no\n",
      "c  martinos    7.0         1     yes\n",
      "d     dcruz    NaN         4      no\n",
      "Sorted data frame :\n",
      "       name  score  attempts quality\n",
      "d     dcruz    NaN         4      no\n",
      "a     harry   15.4         2     yes\n",
      "c  martinos    7.0         1     yes\n",
      "b  rashford   14.2         3      no\n"
     ]
    }
   ],
   "source": [
    "# to sort the DataFrame first by 'name' in ascending order\n",
    "# Name : Arya Lodhari\n",
    "# Enroll : 216270307064\n",
    "\n",
    "import pandas as pd\n",
    "import numpy as np\n",
    "exam_d = {'name':['harry','rashford','martinos','dcruz'],\n",
    "         'score':[15.4,14.2,7,np.nan],\n",
    "         'attempts':[2,3,1,4],\n",
    "         'quality':['yes','no','yes','no']}\n",
    "labels = ['a','b','c','d']\n",
    "df = pd.DataFrame(exam_d , index=labels)\n",
    "print(\"Original rows:\")\n",
    "print(df)\n",
    "df = df.sort_values(by=['name','score'],ascending=[True,False])\n",
    "print('Sorted data frame :')\n",
    "print(df)\n"
   ]
  },
  {
   "cell_type": "raw",
   "id": "f2bd6b2f",
   "metadata": {
    "_cell_guid": "b1076dfc-b9ad-4769-8c92-a6c4dae69d19",
    "_uuid": "8f2839f25d086af736a60e9eeb907d3b93b6e0e5",
    "papermill": {
     "duration": 0.002161,
     "end_time": "2023-11-07T11:45:42.082917",
     "exception": false,
     "start_time": "2023-11-07T11:45:42.080756",
     "status": "completed"
    },
    "tags": []
   },
   "source": []
  }
 ],
 "metadata": {
  "kernelspec": {
   "display_name": "Python 3",
   "language": "python",
   "name": "python3"
  },
  "language_info": {
   "codemirror_mode": {
    "name": "ipython",
    "version": 3
   },
   "file_extension": ".py",
   "mimetype": "text/x-python",
   "name": "python",
   "nbconvert_exporter": "python",
   "pygments_lexer": "ipython3",
   "version": "3.10.12"
  },
  "papermill": {
   "default_parameters": {},
   "duration": 4.832686,
   "end_time": "2023-11-07T11:45:42.606836",
   "environment_variables": {},
   "exception": null,
   "input_path": "__notebook__.ipynb",
   "output_path": "__notebook__.ipynb",
   "parameters": {},
   "start_time": "2023-11-07T11:45:37.774150",
   "version": "2.4.0"
  }
 },
 "nbformat": 4,
 "nbformat_minor": 5
}
