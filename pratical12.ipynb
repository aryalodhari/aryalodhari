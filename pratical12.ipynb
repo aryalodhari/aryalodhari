{
 "cells": [
  {
   "cell_type": "code",
   "execution_count": 1,
   "id": "4a2f479e",
   "metadata": {
    "_cell_guid": "b1076dfc-b9ad-4769-8c92-a6c4dae69d19",
    "_uuid": "8f2839f25d086af736a60e9eeb907d3b93b6e0e5",
    "execution": {
     "iopub.execute_input": "2023-11-07T11:53:53.736988Z",
     "iopub.status.busy": "2023-11-07T11:53:53.736340Z",
     "iopub.status.idle": "2023-11-07T11:53:54.078120Z",
     "shell.execute_reply": "2023-11-07T11:53:54.076406Z"
    },
    "papermill": {
     "duration": 0.348574,
     "end_time": "2023-11-07T11:53:54.081005",
     "exception": false,
     "start_time": "2023-11-07T11:53:53.732431",
     "status": "completed"
    },
    "tags": []
   },
   "outputs": [
    {
     "name": "stdout",
     "output_type": "stream",
     "text": [
      "\n",
      "Keys of Stock dataset:\n",
      "Index(['Date', 'Open', 'High', 'Low', 'Close', 'Adj Close', 'Volume'], dtype='object')\n",
      "\n",
      "Number of rows and columns of Stock dataset:\n",
      "(127, 7)\n"
     ]
    }
   ],
   "source": [
    "# Write a Python program using Scikit-learn to print the keys, number of rows-columns, feature names and the description of the given data\n",
    "# Name : Arya Lodhari\n",
    "# Enrollment : 216270307064\n",
    "\n",
    "import pandas as pd\n",
    "iris_data = pd.read_csv('../input/stock-csv/stock.csv')\n",
    "\n",
    "print(\"\\nKeys of Stock dataset:\")\n",
    "print(iris_data.keys())\n",
    "print(\"\\nNumber of rows and columns of Stock dataset:\")\n",
    "print(iris_data.shape)\n"
   ]
  },
  {
   "cell_type": "code",
   "execution_count": null,
   "id": "9bd2e716",
   "metadata": {
    "papermill": {
     "duration": 0.003376,
     "end_time": "2023-11-07T11:53:54.086168",
     "exception": false,
     "start_time": "2023-11-07T11:53:54.082792",
     "status": "completed"
    },
    "tags": []
   },
   "outputs": [],
   "source": []
  }
 ],
 "metadata": {
  "kernelspec": {
   "display_name": "Python 3",
   "language": "python",
   "name": "python3"
  },
  "language_info": {
   "codemirror_mode": {
    "name": "ipython",
    "version": 3
   },
   "file_extension": ".py",
   "mimetype": "text/x-python",
   "name": "python",
   "nbconvert_exporter": "python",
   "pygments_lexer": "ipython3",
   "version": "3.10.12"
  },
  "papermill": {
   "default_parameters": {},
   "duration": 3.70365,
   "end_time": "2023-11-07T11:53:54.512105",
   "environment_variables": {},
   "exception": null,
   "input_path": "__notebook__.ipynb",
   "output_path": "__notebook__.ipynb",
   "parameters": {},
   "start_time": "2023-11-07T11:53:50.808455",
   "version": "2.4.0"
  }
 },
 "nbformat": 4,
 "nbformat_minor": 5
}
