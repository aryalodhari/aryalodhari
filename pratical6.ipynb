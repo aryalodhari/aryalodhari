{
 "cells": [
  {
   "cell_type": "code",
   "execution_count": 1,
   "id": "a5505cc4",
   "metadata": {
    "_cell_guid": "b1076dfc-b9ad-4769-8c92-a6c4dae69d19",
    "_uuid": "8f2839f25d086af736a60e9eeb907d3b93b6e0e5",
    "execution": {
     "iopub.execute_input": "2023-11-07T11:43:26.161970Z",
     "iopub.status.busy": "2023-11-07T11:43:26.161145Z",
     "iopub.status.idle": "2023-11-07T11:43:26.543667Z",
     "shell.execute_reply": "2023-11-07T11:43:26.542424Z"
    },
    "papermill": {
     "duration": 0.389638,
     "end_time": "2023-11-07T11:43:26.546333",
     "exception": false,
     "start_time": "2023-11-07T11:43:26.156695",
     "status": "completed"
    },
    "tags": []
   },
   "outputs": [
    {
     "name": "stdout",
     "output_type": "stream",
     "text": [
      "Actual array :  [11 12 13 14 15 16 17 18 19 20] \n",
      "Pandas series :\n",
      " 0    11\n",
      "1    12\n",
      "2    13\n",
      "3    14\n",
      "4    15\n",
      "5    16\n",
      "6    17\n",
      "7    18\n",
      "8    19\n",
      "9    20\n",
      "dtype: int64\n"
     ]
    }
   ],
   "source": [
    "# to convert a NumPy array to a Pandas series\n",
    "# Name : Arya Lodhari\n",
    "# Enrollment : 216270307064\n",
    "import numpy as np\n",
    "import pandas as pd\n",
    "print(\"Actual array : \",np.arange(11,21), \n",
    "\"\\nPandas series :\\n\",pd.Series(np.arange(11,21))) "
   ]
  },
  {
   "cell_type": "code",
   "execution_count": 2,
   "id": "9e0a9312",
   "metadata": {
    "execution": {
     "iopub.execute_input": "2023-11-07T11:43:26.554427Z",
     "iopub.status.busy": "2023-11-07T11:43:26.553956Z",
     "iopub.status.idle": "2023-11-07T11:43:26.570828Z",
     "shell.execute_reply": "2023-11-07T11:43:26.569617Z"
    },
    "papermill": {
     "duration": 0.022491,
     "end_time": "2023-11-07T11:43:26.572908",
     "exception": false,
     "start_time": "2023-11-07T11:43:26.550417",
     "status": "completed"
    },
    "tags": []
   },
   "outputs": [
    {
     "name": "stdout",
     "output_type": "stream",
     "text": [
      "    ML  COA  WJP  MADA\n",
      "0  100   48   78   100\n",
      "1   75   54   58    58\n",
      "2   84   86   82    50\n",
      "3   85   95  100    89\n",
      "4   71   86   66    77\n",
      "5   91   90  100   100\n",
      "0    100\n",
      "1     75\n",
      "2     84\n",
      "3     85\n",
      "4     71\n",
      "5     91\n",
      "Name: ML, dtype: int64\n"
     ]
    }
   ],
   "source": [
    "# to convert the first column of a DataFrame as a Series\n",
    "# Name : Arya Lodhari\n",
    "# Enrollment : 216270307064\n",
    "\n",
    "data= {'ML': [100, 75, 84, 85, 71, 91],\n",
    "'COA': [48, 54, 86, 95, 86, 90],\n",
    "'WJP': [78, 58, 82, 100, 66, 100],\n",
    "'MADA': [100, 58, 50, 89, 77, 100] }\n",
    "data_frame=pd.DataFrame(data=data)\n",
    "print(data_frame)\n",
    "print(data_frame.iloc[:,0]) \n",
    "\n"
   ]
  },
  {
   "cell_type": "code",
   "execution_count": 3,
   "id": "dcecb63e",
   "metadata": {
    "execution": {
     "iopub.execute_input": "2023-11-07T11:43:26.579213Z",
     "iopub.status.busy": "2023-11-07T11:43:26.578509Z",
     "iopub.status.idle": "2023-11-07T11:43:26.590987Z",
     "shell.execute_reply": "2023-11-07T11:43:26.589697Z"
    },
    "papermill": {
     "duration": 0.017958,
     "end_time": "2023-11-07T11:43:26.593164",
     "exception": false,
     "start_time": "2023-11-07T11:43:26.575206",
     "status": "completed"
    },
    "tags": []
   },
   "outputs": [
    {
     "name": "stdout",
     "output_type": "stream",
     "text": [
      "pandas series: 0     10\n",
      "1     11\n",
      "2     12\n",
      "3     13\n",
      "4     14\n",
      "5     15\n",
      "6     16\n",
      "7     17\n",
      "8     18\n",
      "9     19\n",
      "10    20\n",
      "dtype: int64 \n",
      "\n",
      "Mean : 15.0 \n",
      " Deviation : 3.3166247903554\n"
     ]
    }
   ],
   "source": [
    "# to create the mean and standard deviation of the data of a given\n",
    "#Series\n",
    "# Name : Arya Lodhari\n",
    "# Enrollment : 216270307064\n",
    "\n",
    "print(\"pandas series:\", pd.Series(np.arange(10,21)), \"\\n\\nMean :\",\n",
    "pd.Series(np.arange(10,21)).mean(), \"\\n Deviation :\", pd.Series(np.arange(10,21)).std())"
   ]
  },
  {
   "cell_type": "code",
   "execution_count": 4,
   "id": "f30b9b79",
   "metadata": {
    "execution": {
     "iopub.execute_input": "2023-11-07T11:43:26.599730Z",
     "iopub.status.busy": "2023-11-07T11:43:26.599177Z",
     "iopub.status.idle": "2023-11-07T11:43:26.613547Z",
     "shell.execute_reply": "2023-11-07T11:43:26.612159Z"
    },
    "papermill": {
     "duration": 0.020293,
     "end_time": "2023-11-07T11:43:26.615971",
     "exception": false,
     "start_time": "2023-11-07T11:43:26.595678",
     "status": "completed"
    },
    "tags": []
   },
   "outputs": [
    {
     "name": "stdout",
     "output_type": "stream",
     "text": [
      "0    11.2\n",
      "1    12.2\n",
      "2    13.3\n",
      "3    14.4\n",
      "4    15.5\n",
      "dtype: float64\n",
      "4    15.5\n",
      "3    14.4\n",
      "2    13.3\n",
      "1    12.2\n",
      "0    11.2\n",
      "dtype: float64\n"
     ]
    }
   ],
   "source": [
    "# to sort a given Series\n",
    "# Name : Arya Lodhari\n",
    "# Enrollment : 216270307064\n",
    "\n",
    "print(pd.Series([11.2,12.2,13.3,14.4,15.5]).sort_values())\n",
    "print(pd.Series([11.2,12.2,13.3,14.4,15.5]).sort_values(ascending = False)) \n"
   ]
  }
 ],
 "metadata": {
  "kernelspec": {
   "display_name": "Python 3",
   "language": "python",
   "name": "python3"
  },
  "language_info": {
   "codemirror_mode": {
    "name": "ipython",
    "version": 3
   },
   "file_extension": ".py",
   "mimetype": "text/x-python",
   "name": "python",
   "nbconvert_exporter": "python",
   "pygments_lexer": "ipython3",
   "version": "3.10.12"
  },
  "papermill": {
   "default_parameters": {},
   "duration": 4.33588,
   "end_time": "2023-11-07T11:43:27.139131",
   "environment_variables": {},
   "exception": null,
   "input_path": "__notebook__.ipynb",
   "output_path": "__notebook__.ipynb",
   "parameters": {},
   "start_time": "2023-11-07T11:43:22.803251",
   "version": "2.4.0"
  }
 },
 "nbformat": 4,
 "nbformat_minor": 5
}
