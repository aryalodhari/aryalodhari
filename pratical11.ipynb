{
 "cells": [
  {
   "cell_type": "code",
   "execution_count": 1,
   "id": "93dbcefa",
   "metadata": {
    "execution": {
     "iopub.execute_input": "2023-11-07T11:52:47.680302Z",
     "iopub.status.busy": "2023-11-07T11:52:47.679892Z",
     "iopub.status.idle": "2023-11-07T11:52:48.137535Z",
     "shell.execute_reply": "2023-11-07T11:52:48.136311Z"
    },
    "papermill": {
     "duration": 0.464485,
     "end_time": "2023-11-07T11:52:48.140397",
     "exception": false,
     "start_time": "2023-11-07T11:52:47.675912",
     "status": "completed"
    },
    "tags": []
   },
   "outputs": [
    {
     "name": "stdout",
     "output_type": "stream",
     "text": [
      "Filtered DataFrame with all entries present:\n",
      "  Name  ID\n",
      "0    A   1\n",
      "1    B   2\n",
      "2    C   3\n",
      "3    D   4\n",
      "4    E   5\n",
      "Rows with NaN values:\n",
      "  Name  ID  Age\n",
      "4    E   5  NaN\n",
      "Columns with NaN values:\n",
      "Index(['Age'], dtype='object')\n",
      "Cleaned DataFrame with no NaN values:\n",
      "  Name  ID   Age\n",
      "0    A   1  18.0\n",
      "1    B   2  17.0\n",
      "2    C   3  20.0\n",
      "3    D   4  21.0\n"
     ]
    }
   ],
   "source": [
    "# Write a Pandas program to filter all columns where all entries present, check which rows and columns has a NaN and finally drop rows with any NaNs from the given dataset.\n",
    "# Name : Arya Lodhari\n",
    "# Enrollmen]t : 216270307064\n",
    "\n",
    "\n",
    "import numpy as np\n",
    "import pandas as pd\n",
    "data= {\n",
    "'Name' : ['A','B','C','D','E'],\n",
    "'ID' : [1,2,3,4,5],\n",
    "'Age' : [18,17,20,21,np.nan]\n",
    "}\n",
    "df=pd.DataFrame(data)\n",
    "df_filtered=df.dropna(axis=1, how='any')\n",
    "rows_with_nan=df[df.isnull().any(axis=1)]\n",
    "columns_with_nan=df.columns[df.isnull().any()]\n",
    "df_cleaned=df.dropna()\n",
    "print(\"Filtered DataFrame with all entries present:\")\n",
    "print(df_filtered)\n",
    "print(\"Rows with NaN values:\")\n",
    "print(rows_with_nan)\n",
    "print(\"Columns with NaN values:\")\n",
    "print(columns_with_nan)\n",
    "print(\"Cleaned DataFrame with no NaN values:\")\n",
    "print(df_cleaned)\n"
   ]
  },
  {
   "cell_type": "raw",
   "id": "f3237964",
   "metadata": {
    "_cell_guid": "b1076dfc-b9ad-4769-8c92-a6c4dae69d19",
    "_uuid": "8f2839f25d086af736a60e9eeb907d3b93b6e0e5",
    "papermill": {
     "duration": 0.003397,
     "end_time": "2023-11-07T11:52:48.145937",
     "exception": false,
     "start_time": "2023-11-07T11:52:48.142540",
     "status": "completed"
    },
    "tags": []
   },
   "source": []
  }
 ],
 "metadata": {
  "kernelspec": {
   "display_name": "Python 3",
   "language": "python",
   "name": "python3"
  },
  "language_info": {
   "codemirror_mode": {
    "name": "ipython",
    "version": 3
   },
   "file_extension": ".py",
   "mimetype": "text/x-python",
   "name": "python",
   "nbconvert_exporter": "python",
   "pygments_lexer": "ipython3",
   "version": "3.10.12"
  },
  "papermill": {
   "default_parameters": {},
   "duration": 4.786538,
   "end_time": "2023-11-07T11:52:48.670706",
   "environment_variables": {},
   "exception": null,
   "input_path": "__notebook__.ipynb",
   "output_path": "__notebook__.ipynb",
   "parameters": {},
   "start_time": "2023-11-07T11:52:43.884168",
   "version": "2.4.0"
  }
 },
 "nbformat": 4,
 "nbformat_minor": 5
}
