{
 "cells": [
  {
   "cell_type": "code",
   "execution_count": 1,
   "id": "1b07968a",
   "metadata": {
    "execution": {
     "iopub.execute_input": "2023-11-07T11:51:23.306514Z",
     "iopub.status.busy": "2023-11-07T11:51:23.306093Z",
     "iopub.status.idle": "2023-11-07T11:51:24.242088Z",
     "shell.execute_reply": "2023-11-07T11:51:24.239760Z"
    },
    "papermill": {
     "duration": 0.943601,
     "end_time": "2023-11-07T11:51:24.245127",
     "exception": false,
     "start_time": "2023-11-07T11:51:23.301526",
     "status": "completed"
    },
    "tags": []
   },
   "outputs": [
    {
     "name": "stdout",
     "output_type": "stream",
     "text": [
      "Dataframe with missing values\n",
      "  Name   ID\n",
      "0    A  1.0\n",
      "1    A  1.0\n",
      "2  NaN  3.0\n",
      "3    D  4.0\n",
      "4    E  NaN\n",
      "Dataframe with removed missing values\n",
      "  Name   ID\n",
      "0    A  1.0\n",
      "1    A  1.0\n",
      "3    D  4.0\n"
     ]
    }
   ],
   "source": [
    "# to find and drop the missing values from the given dataset\n",
    "# Name : arya Lodhari\n",
    "# Enrollment : 216270307064\n",
    "\n",
    "\n",
    "import numpy as np\n",
    "import pandas as pd\n",
    "\n",
    "data={\n",
    "'Name':['A','A',np.nan,'D','E'],\n",
    "'ID':[1,1,3,4,np.nan]\n",
    "}\n",
    "\n",
    "df=pd.DataFrame(data)\n",
    "\n",
    "print(\"Dataframe with missing values\")\n",
    "print(df)\n",
    "\n",
    "new_df=df.dropna()\n",
    "\n",
    "print(\"Dataframe with removed missing values\")\n",
    "print(new_df)\n",
    "\n",
    "\n"
   ]
  },
  {
   "cell_type": "code",
   "execution_count": 2,
   "id": "a40a4226",
   "metadata": {
    "execution": {
     "iopub.execute_input": "2023-11-07T11:51:24.254930Z",
     "iopub.status.busy": "2023-11-07T11:51:24.254316Z",
     "iopub.status.idle": "2023-11-07T11:51:24.270635Z",
     "shell.execute_reply": "2023-11-07T11:51:24.269304Z"
    },
    "papermill": {
     "duration": 0.023383,
     "end_time": "2023-11-07T11:51:24.273589",
     "exception": false,
     "start_time": "2023-11-07T11:51:24.250206",
     "status": "completed"
    },
    "tags": []
   },
   "outputs": [
    {
     "name": "stdout",
     "output_type": "stream",
     "text": [
      "  Name   ID\n",
      "0    A  1.0\n",
      "3    D  4.0\n"
     ]
    }
   ],
   "source": [
    "# to remove the duplicates from the given dataset.\n",
    "# name : Arya Lodhari\n",
    "# Enrollment : 216270307064\n",
    "\n",
    "print(new_df.drop_duplicates())\n"
   ]
  },
  {
   "cell_type": "code",
   "execution_count": null,
   "id": "d7dca9aa",
   "metadata": {
    "papermill": {
     "duration": 0.00236,
     "end_time": "2023-11-07T11:51:24.278688",
     "exception": false,
     "start_time": "2023-11-07T11:51:24.276328",
     "status": "completed"
    },
    "tags": []
   },
   "outputs": [],
   "source": []
  },
  {
   "cell_type": "raw",
   "id": "8f15ce40",
   "metadata": {
    "_cell_guid": "b1076dfc-b9ad-4769-8c92-a6c4dae69d19",
    "_uuid": "8f2839f25d086af736a60e9eeb907d3b93b6e0e5",
    "papermill": {
     "duration": 0.002273,
     "end_time": "2023-11-07T11:51:24.283618",
     "exception": false,
     "start_time": "2023-11-07T11:51:24.281345",
     "status": "completed"
    },
    "tags": []
   },
   "source": []
  }
 ],
 "metadata": {
  "kernelspec": {
   "display_name": "Python 3",
   "language": "python",
   "name": "python3"
  },
  "language_info": {
   "codemirror_mode": {
    "name": "ipython",
    "version": 3
   },
   "file_extension": ".py",
   "mimetype": "text/x-python",
   "name": "python",
   "nbconvert_exporter": "python",
   "pygments_lexer": "ipython3",
   "version": "3.10.12"
  },
  "papermill": {
   "default_parameters": {},
   "duration": 6.328966,
   "end_time": "2023-11-07T11:51:24.808208",
   "environment_variables": {},
   "exception": null,
   "input_path": "__notebook__.ipynb",
   "output_path": "__notebook__.ipynb",
   "parameters": {},
   "start_time": "2023-11-07T11:51:18.479242",
   "version": "2.4.0"
  }
 },
 "nbformat": 4,
 "nbformat_minor": 5
}
