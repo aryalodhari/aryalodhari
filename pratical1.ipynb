{
 "cells": [
  {
   "cell_type": "code",
   "execution_count": 1,
   "id": "a4498464",
   "metadata": {
    "_cell_guid": "b1076dfc-b9ad-4769-8c92-a6c4dae69d19",
    "_uuid": "8f2839f25d086af736a60e9eeb907d3b93b6e0e5",
    "execution": {
     "iopub.execute_input": "2023-09-05T10:12:46.519869Z",
     "iopub.status.busy": "2023-09-05T10:12:46.519315Z",
     "iopub.status.idle": "2023-09-05T10:12:46.524598Z",
     "shell.execute_reply": "2023-09-05T10:12:46.523370Z"
    },
    "papermill": {
     "duration": 0.012803,
     "end_time": "2023-09-05T10:12:46.526588",
     "exception": false,
     "start_time": "2023-09-05T10:12:46.513785",
     "status": "completed"
    },
    "tags": []
   },
   "outputs": [],
   "source": [
    "# Practical 2 : Write a NumPy program to implement following operation"
   ]
  },
  {
   "cell_type": "code",
   "execution_count": 2,
   "id": "1d421c47",
   "metadata": {
    "execution": {
     "iopub.execute_input": "2023-09-05T10:12:46.534959Z",
     "iopub.status.busy": "2023-09-05T10:12:46.534279Z",
     "iopub.status.idle": "2023-09-05T10:12:46.544056Z",
     "shell.execute_reply": "2023-09-05T10:12:46.542869Z"
    },
    "papermill": {
     "duration": 0.016011,
     "end_time": "2023-09-05T10:12:46.545975",
     "exception": false,
     "start_time": "2023-09-05T10:12:46.529964",
     "status": "completed"
    },
    "tags": []
   },
   "outputs": [
    {
     "name": "stdout",
     "output_type": "stream",
     "text": [
      "List is :  [3, 4, 8, 5, 1]\n",
      "Array is :  [3, 4, 8, 5, 1]\n"
     ]
    }
   ],
   "source": [
    "# Pratical 2.1 : to convert a list of numeric values into a one-dimensional NumPy array.\n",
    "#name: Arya Lodhari\n",
    "#enroll: 64\n",
    "#sub: IML\n",
    "#Sem; 5\n",
    "\n",
    "import numpy as np\n",
    "\n",
    "a = [3,4,8,5,1]\n",
    "print(\"List is : \",a)\n",
    "\n",
    "b = np.array(a)\n",
    "print(\"Array is : \",a)"
   ]
  },
  {
   "cell_type": "code",
   "execution_count": 3,
   "id": "93a05517",
   "metadata": {
    "execution": {
     "iopub.execute_input": "2023-09-05T10:12:46.553743Z",
     "iopub.status.busy": "2023-09-05T10:12:46.553403Z",
     "iopub.status.idle": "2023-09-05T10:12:46.557673Z",
     "shell.execute_reply": "2023-09-05T10:12:46.556354Z"
    },
    "papermill": {
     "duration": 0.010923,
     "end_time": "2023-09-05T10:12:46.560015",
     "exception": false,
     "start_time": "2023-09-05T10:12:46.549092",
     "status": "completed"
    },
    "tags": []
   },
   "outputs": [],
   "source": [
    "# to create a 3x3 matrix with values ranging from 2 to 10\n",
    "\n"
   ]
  }
 ],
 "kernelspec": {
  "display_name": "Python 3",
  "language": "python",
  "name": "python3"
 },
 "language_info": {
  "codemirror_mode": {
   "name": "ipython",
   "version": 3
  },
  "file_extension": ".py",
  "mimetype": "text/x-python",
  "name": "python",
  "nbconvert_exporter": "python",
  "pygments_lexer": "ipython3",
  "version": "3.6.4"
 },
 "metadata": {
  "kernelspec": {
   "display_name": "Python 3",
   "language": "python",
   "name": "python3"
  },
  "language_info": {
   "codemirror_mode": {
    "name": "ipython",
    "version": 3
   },
   "file_extension": ".py",
   "mimetype": "text/x-python",
   "name": "python",
   "nbconvert_exporter": "python",
   "pygments_lexer": "ipython3",
   "version": "3.10.12"
  },
  "papermill": {
   "default_parameters": {},
   "duration": 3.374928,
   "end_time": "2023-09-05T10:12:46.881894",
   "environment_variables": {},
   "exception": null,
   "input_path": "__notebook__.ipynb",
   "output_path": "__notebook__.ipynb",
   "parameters": {},
   "start_time": "2023-09-05T10:12:43.506966",
   "version": "2.4.0"
  }
 },
 "nbformat": 4,
 "nbformat_minor": 5
}
